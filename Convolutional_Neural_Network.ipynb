{
  "nbformat": 4,
  "nbformat_minor": 0,
  "metadata": {
    "colab": {
      "name": "Convolutional_Neural_Network.ipynb",
      "provenance": [],
      "authorship_tag": "ABX9TyM5MXUn4tPdHCEort2RdhBk"
    },
    "kernelspec": {
      "name": "python3",
      "display_name": "Python 3"
    },
    "accelerator": "GPU"
  },
  "cells": [
    {
      "cell_type": "code",
      "metadata": {
        "id": "kmT7JNIhMctn",
        "colab_type": "code",
        "colab": {
          "base_uri": "https://localhost:8080/",
          "height": 124
        },
        "outputId": "7354abd2-e7f1-43d9-d955-d962b3c914ed"
      },
      "source": [
        "from google.colab import drive \n",
        "drive .mount('/content/drive')"
      ],
      "execution_count": 2,
      "outputs": [
        {
          "output_type": "stream",
          "text": [
            "Go to this URL in a browser: https://accounts.google.com/o/oauth2/auth?client_id=947318989803-6bn6qk8qdgf4n4g3pfee6491hc0brc4i.apps.googleusercontent.com&redirect_uri=urn%3aietf%3awg%3aoauth%3a2.0%3aoob&response_type=code&scope=email%20https%3a%2f%2fwww.googleapis.com%2fauth%2fdocs.test%20https%3a%2f%2fwww.googleapis.com%2fauth%2fdrive%20https%3a%2f%2fwww.googleapis.com%2fauth%2fdrive.photos.readonly%20https%3a%2f%2fwww.googleapis.com%2fauth%2fpeopleapi.readonly\n",
            "\n",
            "Enter your authorization code:\n",
            "··········\n",
            "Mounted at /content/drive\n"
          ],
          "name": "stdout"
        }
      ]
    },
    {
      "cell_type": "code",
      "metadata": {
        "id": "eMHreOljCl7o",
        "colab_type": "code",
        "colab": {}
      },
      "source": [
        "from keras.models import Sequential\n",
        "from keras.layers import Conv2D\n",
        "from keras.layers import MaxPooling2D\n",
        "from keras.layers import Flatten\n",
        "from keras.layers import Dense"
      ],
      "execution_count": 0,
      "outputs": []
    },
    {
      "cell_type": "code",
      "metadata": {
        "id": "Y3DL4_nYCt5v",
        "colab_type": "code",
        "colab": {}
      },
      "source": [
        "classifier = Sequential()"
      ],
      "execution_count": 0,
      "outputs": []
    },
    {
      "cell_type": "code",
      "metadata": {
        "id": "Y242q1BOCv8g",
        "colab_type": "code",
        "colab": {}
      },
      "source": [
        "classifier.add(Conv2D(32, (3, 3), input_shape = (64, 64, 3), activation = 'relu'))\n",
        "classifier.add(MaxPooling2D(pool_size = (2, 2)))\n",
        "classifier.add(Conv2D(32, (3, 3), activation = 'relu'))\n",
        "classifier.add(MaxPooling2D(pool_size = (2, 2)))\n",
        "classifier.add(Flatten())\n",
        "classifier.add(Dense(units = 128, activation = 'relu'))\n",
        "classifier.add(Dense(units = 1, activation = 'sigmoid'))\n",
        "classifier.compile(optimizer = 'adam', loss = 'binary_crossentropy', metrics = ['accuracy'])"
      ],
      "execution_count": 0,
      "outputs": []
    },
    {
      "cell_type": "code",
      "metadata": {
        "id": "PQaihP-TDF0N",
        "colab_type": "code",
        "colab": {}
      },
      "source": [
        "from keras.preprocessing.image import ImageDataGenerator"
      ],
      "execution_count": 0,
      "outputs": []
    },
    {
      "cell_type": "code",
      "metadata": {
        "id": "pb2c9Nr_DIyE",
        "colab_type": "code",
        "colab": {}
      },
      "source": [
        "train_datagen = ImageDataGenerator(rescale = 1./255,\n",
        "                                   shear_range = 0.2,\n",
        "                                   zoom_range = 0.2,\n",
        "                                   horizontal_flip = True)"
      ],
      "execution_count": 0,
      "outputs": []
    },
    {
      "cell_type": "code",
      "metadata": {
        "id": "dsEgT5pUDK9l",
        "colab_type": "code",
        "colab": {}
      },
      "source": [
        "test_datagen = ImageDataGenerator(rescale = 1./255)"
      ],
      "execution_count": 0,
      "outputs": []
    },
    {
      "cell_type": "code",
      "metadata": {
        "id": "cq-JbDSTDNif",
        "colab_type": "code",
        "colab": {
          "base_uri": "https://localhost:8080/",
          "height": 34
        },
        "outputId": "1f3470b6-d76a-452f-c217-33a5f8f78f2a"
      },
      "source": [
        "training_set = train_datagen.flow_from_directory('/content/drive/My Drive/training_set',\n",
        "                                                 target_size = (64, 64),\n",
        "                                                 batch_size = 32,\n",
        "                                                 class_mode = 'binary')"
      ],
      "execution_count": 19,
      "outputs": [
        {
          "output_type": "stream",
          "text": [
            "Found 8058 images belonging to 2 classes.\n"
          ],
          "name": "stdout"
        }
      ]
    },
    {
      "cell_type": "code",
      "metadata": {
        "id": "BWmyS0ISDcd_",
        "colab_type": "code",
        "colab": {
          "base_uri": "https://localhost:8080/",
          "height": 34
        },
        "outputId": "d162c109-e18e-4de8-a6bf-d4bdc96749e9"
      },
      "source": [
        "test_set = test_datagen.flow_from_directory('/content/drive/My Drive/test_set',\n",
        "                                            target_size = (64, 64),\n",
        "                                            batch_size = 32,\n",
        "                                            class_mode = 'binary')"
      ],
      "execution_count": 20,
      "outputs": [
        {
          "output_type": "stream",
          "text": [
            "Found 2000 images belonging to 2 classes.\n"
          ],
          "name": "stdout"
        }
      ]
    },
    {
      "cell_type": "code",
      "metadata": {
        "id": "SgbUEZv7DmSX",
        "colab_type": "code",
        "colab": {
          "base_uri": "https://localhost:8080/",
          "height": 555
        },
        "outputId": "c95e01a1-defa-40bc-df05-8d91a742ecdf"
      },
      "source": [
        "classifier.fit_generator(training_set,\n",
        "                         steps_per_epoch = 8000,\n",
        "                         epochs = 15,\n",
        "                         validation_data = test_set,\n",
        "                         validation_steps = 2000)"
      ],
      "execution_count": 21,
      "outputs": [
        {
          "output_type": "stream",
          "text": [
            "Epoch 1/15\n",
            "8000/8000 [==============================] - 2186s 273ms/step - loss: 0.3677 - accuracy: 0.8287 - val_loss: 0.4784 - val_accuracy: 0.7710\n",
            "Epoch 2/15\n",
            "8000/8000 [==============================] - 1664s 208ms/step - loss: 0.1330 - accuracy: 0.9483 - val_loss: 1.0057 - val_accuracy: 0.7913\n",
            "Epoch 3/15\n",
            "8000/8000 [==============================] - 1796s 225ms/step - loss: 0.0682 - accuracy: 0.9751 - val_loss: 1.4017 - val_accuracy: 0.7810\n",
            "Epoch 4/15\n",
            "8000/8000 [==============================] - 1676s 210ms/step - loss: 0.0474 - accuracy: 0.9836 - val_loss: 2.5373 - val_accuracy: 0.7974\n",
            "Epoch 5/15\n",
            "8000/8000 [==============================] - 1738s 217ms/step - loss: 0.0369 - accuracy: 0.9873 - val_loss: 1.0412 - val_accuracy: 0.8049\n",
            "Epoch 6/15\n",
            "8000/8000 [==============================] - 1729s 216ms/step - loss: 0.0327 - accuracy: 0.9890 - val_loss: 1.3314 - val_accuracy: 0.7911\n",
            "Epoch 7/15\n",
            "8000/8000 [==============================] - 1638s 205ms/step - loss: 0.0263 - accuracy: 0.9910 - val_loss: 2.8477 - val_accuracy: 0.7960\n",
            "Epoch 8/15\n",
            "8000/8000 [==============================] - 1696s 212ms/step - loss: 0.0244 - accuracy: 0.9920 - val_loss: 0.3365 - val_accuracy: 0.7965\n",
            "Epoch 9/15\n",
            "8000/8000 [==============================] - 1797s 225ms/step - loss: 0.0215 - accuracy: 0.9929 - val_loss: 1.7232 - val_accuracy: 0.7840\n",
            "Epoch 10/15\n",
            "8000/8000 [==============================] - 1703s 213ms/step - loss: 0.0189 - accuracy: 0.9937 - val_loss: 3.4730 - val_accuracy: 0.7850\n",
            "Epoch 11/15\n",
            "8000/8000 [==============================] - 1720s 215ms/step - loss: 0.0179 - accuracy: 0.9941 - val_loss: 2.2889 - val_accuracy: 0.7911\n",
            "Epoch 12/15\n",
            "8000/8000 [==============================] - 1789s 224ms/step - loss: 0.0153 - accuracy: 0.9950 - val_loss: 1.7457 - val_accuracy: 0.8045\n",
            "Epoch 13/15\n",
            "8000/8000 [==============================] - 1907s 238ms/step - loss: 0.0148 - accuracy: 0.9952 - val_loss: 2.3445 - val_accuracy: 0.8019\n",
            "Epoch 14/15\n",
            "8000/8000 [==============================] - 1918s 240ms/step - loss: 0.0137 - accuracy: 0.9957 - val_loss: 3.9463 - val_accuracy: 0.8027\n",
            "Epoch 15/15\n",
            "8000/8000 [==============================] - 1914s 239ms/step - loss: 0.0131 - accuracy: 0.9958 - val_loss: 0.3103 - val_accuracy: 0.7938\n"
          ],
          "name": "stdout"
        },
        {
          "output_type": "execute_result",
          "data": {
            "text/plain": [
              "<keras.callbacks.callbacks.History at 0x7f8f90712748>"
            ]
          },
          "metadata": {
            "tags": []
          },
          "execution_count": 21
        }
      ]
    },
    {
      "cell_type": "code",
      "metadata": {
        "id": "B3Oc3VRiDqdy",
        "colab_type": "code",
        "colab": {}
      },
      "source": [
        "import numpy as np\n",
        "from keras.preprocessing import image"
      ],
      "execution_count": 0,
      "outputs": []
    },
    {
      "cell_type": "code",
      "metadata": {
        "id": "8DSg0jF36Dmy",
        "colab_type": "code",
        "colab": {}
      },
      "source": [
        "test_image = image.load_img('cat_or_dog_1.jpg', target_size = (64, 64))\n",
        "test_image = image.img_to_array(test_image)\n",
        "test_image = np.expand_dims(test_image, axis = 0)\n",
        "result = classifier.predict(test_image)\n",
        "training_set.class_indices\n",
        "if result[0][0] == 1:\n",
        "    prediction = 'dog'\n",
        "else:\n",
        "    prediction = 'cat'"
      ],
      "execution_count": 0,
      "outputs": []
    },
    {
      "cell_type": "code",
      "metadata": {
        "id": "0HicDB8u6XNd",
        "colab_type": "code",
        "colab": {
          "base_uri": "https://localhost:8080/",
          "height": 34
        },
        "outputId": "5cb8965e-5ef1-4751-b7b8-8b8b175ef50c"
      },
      "source": [
        "prediction"
      ],
      "execution_count": 25,
      "outputs": [
        {
          "output_type": "execute_result",
          "data": {
            "text/plain": [
              "'dog'"
            ]
          },
          "metadata": {
            "tags": []
          },
          "execution_count": 25
        }
      ]
    },
    {
      "cell_type": "code",
      "metadata": {
        "id": "NBLzGuBF6gv4",
        "colab_type": "code",
        "colab": {}
      },
      "source": [
        ""
      ],
      "execution_count": 0,
      "outputs": []
    }
  ]
}